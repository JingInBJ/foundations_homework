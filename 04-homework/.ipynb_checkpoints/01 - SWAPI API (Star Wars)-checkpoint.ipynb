{
 "cells": [
  {
   "cell_type": "markdown",
   "metadata": {},
   "source": [
    "# SWAPI (Star Wars)\n",
    "\n",
    "Answer the following questions using the [Star Wars](https://swapi.co/). I've added three cells for each question but you're free to use more or less! Hold `Shift` and hit `Enter` to run a cell, and use the `+` on the top left to add a new cell to a notebook.\n",
    "\n",
    "If you spend some time reading the documentation your life will probably be a little bit easier!\n",
    "\n",
    "## 0) Import any libraries you might need\n",
    "\n",
    "- *Tip: We're going to be downloading things from the internet, so we probably need `requests`.*"
   ]
  },
  {
   "cell_type": "code",
   "execution_count": 1,
   "metadata": {},
   "outputs": [],
   "source": [
    "import requests"
   ]
  },
  {
   "cell_type": "code",
   "execution_count": 2,
   "metadata": {},
   "outputs": [],
   "source": [
    "response = requests.get('https://swapi.co/api/')"
   ]
  },
  {
   "cell_type": "code",
   "execution_count": 3,
   "metadata": {},
   "outputs": [],
   "source": [
    "data = response.json()"
   ]
  },
  {
   "cell_type": "markdown",
   "metadata": {},
   "source": [
    "## 1) Make a request to the Star Wars API\n",
    "\n",
    "I've heard there's a new Star Wars film called **Solo**, but it isn't in SWAPI!\n",
    "\n",
    "The most recent film it contains has an ID of 7. Make a request for that film and look at the data."
   ]
  },
  {
   "cell_type": "code",
   "execution_count": 4,
   "metadata": {},
   "outputs": [],
   "source": [
    "response = requests.get('https://swapi.co/api/films/7')\n",
    "data = response.json()"
   ]
  },
  {
   "cell_type": "code",
   "execution_count": 5,
   "metadata": {},
   "outputs": [
    {
     "data": {
      "text/plain": [
       "{'title': 'The Force Awakens',\n",
       " 'episode_id': 7,\n",
       " 'opening_crawl': \"Luke Skywalker has vanished.\\r\\nIn his absence, the sinister\\r\\nFIRST ORDER has risen from\\r\\nthe ashes of the Empire\\r\\nand will not rest until\\r\\nSkywalker, the last Jedi,\\r\\nhas been destroyed.\\r\\n \\r\\nWith the support of the\\r\\nREPUBLIC, General Leia Organa\\r\\nleads a brave RESISTANCE.\\r\\nShe is desperate to find her\\r\\nbrother Luke and gain his\\r\\nhelp in restoring peace and\\r\\njustice to the galaxy.\\r\\n \\r\\nLeia has sent her most daring\\r\\npilot on a secret mission\\r\\nto Jakku, where an old ally\\r\\nhas discovered a clue to\\r\\nLuke's whereabouts....\",\n",
       " 'director': 'J. J. Abrams',\n",
       " 'producer': 'Kathleen Kennedy, J. J. Abrams, Bryan Burk',\n",
       " 'release_date': '2015-12-11',\n",
       " 'characters': ['https://swapi.co/api/people/1/',\n",
       "  'https://swapi.co/api/people/3/',\n",
       "  'https://swapi.co/api/people/5/',\n",
       "  'https://swapi.co/api/people/13/',\n",
       "  'https://swapi.co/api/people/14/',\n",
       "  'https://swapi.co/api/people/27/',\n",
       "  'https://swapi.co/api/people/84/',\n",
       "  'https://swapi.co/api/people/85/',\n",
       "  'https://swapi.co/api/people/86/',\n",
       "  'https://swapi.co/api/people/87/',\n",
       "  'https://swapi.co/api/people/88/'],\n",
       " 'planets': ['https://swapi.co/api/planets/61/'],\n",
       " 'starships': ['https://swapi.co/api/starships/77/',\n",
       "  'https://swapi.co/api/starships/10/'],\n",
       " 'vehicles': [],\n",
       " 'species': ['https://swapi.co/api/species/3/',\n",
       "  'https://swapi.co/api/species/2/',\n",
       "  'https://swapi.co/api/species/1/'],\n",
       " 'created': '2015-04-17T06:51:30.504780Z',\n",
       " 'edited': '2015-12-17T14:31:47.617768Z',\n",
       " 'url': 'https://swapi.co/api/films/7/'}"
      ]
     },
     "execution_count": 5,
     "metadata": {},
     "output_type": "execute_result"
    }
   ],
   "source": [
    "data"
   ]
  },
  {
   "cell_type": "code",
   "execution_count": 6,
   "metadata": {},
   "outputs": [
    {
     "data": {
      "text/plain": [
       "dict"
      ]
     },
     "execution_count": 6,
     "metadata": {},
     "output_type": "execute_result"
    }
   ],
   "source": [
    "type(data)"
   ]
  },
  {
   "cell_type": "code",
   "execution_count": 7,
   "metadata": {},
   "outputs": [
    {
     "data": {
      "text/plain": [
       "dict_keys(['title', 'episode_id', 'opening_crawl', 'director', 'producer', 'release_date', 'characters', 'planets', 'starships', 'vehicles', 'species', 'created', 'edited', 'url'])"
      ]
     },
     "execution_count": 7,
     "metadata": {},
     "output_type": "execute_result"
    }
   ],
   "source": [
    "data.keys()"
   ]
  },
  {
   "cell_type": "markdown",
   "metadata": {},
   "source": [
    "## 2) What is that film's name, and when was it released?\n",
    "\n",
    "Please print **only** the title and the release date. You can guess at the keys, but I recommend checking the documentation."
   ]
  },
  {
   "cell_type": "code",
   "execution_count": 8,
   "metadata": {},
   "outputs": [
    {
     "data": {
      "text/plain": [
       "'The Force Awakens'"
      ]
     },
     "execution_count": 8,
     "metadata": {},
     "output_type": "execute_result"
    }
   ],
   "source": [
    "data['title']"
   ]
  },
  {
   "cell_type": "code",
   "execution_count": 9,
   "metadata": {},
   "outputs": [
    {
     "data": {
      "text/plain": [
       "'2015-12-11'"
      ]
     },
     "execution_count": 9,
     "metadata": {},
     "output_type": "execute_result"
    }
   ],
   "source": [
    "data['release_date']"
   ]
  },
  {
   "cell_type": "code",
   "execution_count": null,
   "metadata": {},
   "outputs": [],
   "source": []
  },
  {
   "cell_type": "markdown",
   "metadata": {},
   "source": [
    "## 3) But I want Han Solo! Use the API to search for people named \"Solo\"."
   ]
  },
  {
   "cell_type": "code",
   "execution_count": 10,
   "metadata": {},
   "outputs": [],
   "source": [
    "response = requests.get('https://swapi.co/api/people/?search=Han Solo')\n",
    "Solo_data = response.json()"
   ]
  },
  {
   "cell_type": "code",
   "execution_count": 11,
   "metadata": {},
   "outputs": [
    {
     "data": {
      "text/plain": [
       "{'count': 1,\n",
       " 'next': None,\n",
       " 'previous': None,\n",
       " 'results': [{'name': 'Han Solo',\n",
       "   'height': '180',\n",
       "   'mass': '80',\n",
       "   'hair_color': 'brown',\n",
       "   'skin_color': 'fair',\n",
       "   'eye_color': 'brown',\n",
       "   'birth_year': '29BBY',\n",
       "   'gender': 'male',\n",
       "   'homeworld': 'https://swapi.co/api/planets/22/',\n",
       "   'films': ['https://swapi.co/api/films/2/',\n",
       "    'https://swapi.co/api/films/3/',\n",
       "    'https://swapi.co/api/films/1/',\n",
       "    'https://swapi.co/api/films/7/'],\n",
       "   'species': ['https://swapi.co/api/species/1/'],\n",
       "   'vehicles': [],\n",
       "   'starships': ['https://swapi.co/api/starships/10/',\n",
       "    'https://swapi.co/api/starships/22/'],\n",
       "   'created': '2014-12-10T16:49:14.582000Z',\n",
       "   'edited': '2014-12-20T21:17:50.334000Z',\n",
       "   'url': 'https://swapi.co/api/people/14/'}]}"
      ]
     },
     "execution_count": 11,
     "metadata": {},
     "output_type": "execute_result"
    }
   ],
   "source": [
    "Solo_data"
   ]
  },
  {
   "cell_type": "code",
   "execution_count": null,
   "metadata": {},
   "outputs": [],
   "source": []
  },
  {
   "cell_type": "code",
   "execution_count": null,
   "metadata": {},
   "outputs": [],
   "source": []
  },
  {
   "cell_type": "markdown",
   "metadata": {},
   "source": [
    "## 4) How many results did you get?\n",
    "\n",
    "Show **two different ways** of displaying this number.\n",
    "\n",
    "- *Tip: One uses the API, and one uses a Python function*"
   ]
  },
  {
   "cell_type": "code",
   "execution_count": 12,
   "metadata": {},
   "outputs": [
    {
     "data": {
      "text/plain": [
       "1"
      ]
     },
     "execution_count": 12,
     "metadata": {},
     "output_type": "execute_result"
    }
   ],
   "source": [
    "Solo_data['count']"
   ]
  },
  {
   "cell_type": "code",
   "execution_count": 13,
   "metadata": {},
   "outputs": [
    {
     "data": {
      "text/plain": [
       "1"
      ]
     },
     "execution_count": 13,
     "metadata": {},
     "output_type": "execute_result"
    }
   ],
   "source": [
    "len(Solo_data['results'])"
   ]
  },
  {
   "cell_type": "code",
   "execution_count": null,
   "metadata": {},
   "outputs": [],
   "source": []
  },
  {
   "cell_type": "markdown",
   "metadata": {},
   "source": [
    "## 5) Write me a sentence about Han Solo\n",
    "\n",
    "Your sentence should be say `\"____ has _____ hair, is _____cm tall and weighs ____kg.\"` - make sure you have **no spcaes** between the numbers and `cm`/`kg`."
   ]
  },
  {
   "cell_type": "code",
   "execution_count": 14,
   "metadata": {},
   "outputs": [],
   "source": [
    "Solo_info=Solo_data['results'][0]"
   ]
  },
  {
   "cell_type": "code",
   "execution_count": 15,
   "metadata": {},
   "outputs": [
    {
     "data": {
      "text/plain": [
       "'Han Solo'"
      ]
     },
     "execution_count": 15,
     "metadata": {},
     "output_type": "execute_result"
    }
   ],
   "source": [
    "Solo_info['name']"
   ]
  },
  {
   "cell_type": "code",
   "execution_count": 16,
   "metadata": {},
   "outputs": [
    {
     "ename": "NameError",
     "evalue": "name 'personal_info' is not defined",
     "output_type": "error",
     "traceback": [
      "\u001b[0;31m---------------------------------------------------------------------------\u001b[0m",
      "\u001b[0;31mNameError\u001b[0m                                 Traceback (most recent call last)",
      "\u001b[0;32m<ipython-input-16-1acda5c07316>\u001b[0m in \u001b[0;36m<module>\u001b[0;34m()\u001b[0m\n\u001b[0;32m----> 1\u001b[0;31m \u001b[0mSolo_info\u001b[0m\u001b[0;34m[\u001b[0m\u001b[0;34m'name'\u001b[0m\u001b[0;34m]\u001b[0m\u001b[0;34m+\u001b[0m\u001b[0;34m' has '\u001b[0m\u001b[0;34m+\u001b[0m\u001b[0mpersonal_info\u001b[0m\u001b[0;34m[\u001b[0m\u001b[0;34m'hair_color'\u001b[0m\u001b[0;34m]\u001b[0m\u001b[0;34m+\u001b[0m\u001b[0;34m' hair, is '\u001b[0m\u001b[0;34m+\u001b[0m\u001b[0mSolo_info\u001b[0m\u001b[0;34m[\u001b[0m\u001b[0;34m'height'\u001b[0m\u001b[0;34m]\u001b[0m\u001b[0;34m+\u001b[0m\u001b[0;34m'cm tall and weighs '\u001b[0m\u001b[0;34m+\u001b[0m\u001b[0mSolo_info\u001b[0m\u001b[0;34m[\u001b[0m\u001b[0;34m'mass'\u001b[0m\u001b[0;34m]\u001b[0m\u001b[0;34m+\u001b[0m\u001b[0;34m'kg.'\u001b[0m\u001b[0;34m\u001b[0m\u001b[0m\n\u001b[0m",
      "\u001b[0;31mNameError\u001b[0m: name 'personal_info' is not defined"
     ]
    }
   ],
   "source": [
    "Solo_info['name']+' has '+personal_info['hair_color']+' hair, is '+Solo_info['height']+'cm tall and weighs '+Solo_info['mass']+'kg.'"
   ]
  },
  {
   "cell_type": "markdown",
   "metadata": {},
   "source": [
    "## 5) Search for C-3PO"
   ]
  },
  {
   "cell_type": "code",
   "execution_count": null,
   "metadata": {},
   "outputs": [],
   "source": [
    "response = requests.get('https://swapi.co/api/people/?search=C-3PO')\n",
    "c_data = response.json()"
   ]
  },
  {
   "cell_type": "code",
   "execution_count": null,
   "metadata": {},
   "outputs": [],
   "source": [
    "c_data"
   ]
  },
  {
   "cell_type": "code",
   "execution_count": null,
   "metadata": {},
   "outputs": [],
   "source": []
  },
  {
   "cell_type": "markdown",
   "metadata": {},
   "source": [
    "## 6) What URL can tell me more about his species? Make a request to the corrent endpoint.\n",
    "\n",
    "Spoiler: he's a **droid**. Are robots a species? I guess so, maybe."
   ]
  },
  {
   "cell_type": "code",
   "execution_count": null,
   "metadata": {},
   "outputs": [],
   "source": [
    "c_results=c_data['results'][0]"
   ]
  },
  {
   "cell_type": "code",
   "execution_count": null,
   "metadata": {},
   "outputs": [],
   "source": [
    "c_results['species'][0]"
   ]
  },
  {
   "cell_type": "code",
   "execution_count": null,
   "metadata": {},
   "outputs": [],
   "source": [
    "species_response = requests.get(c_results['species'][0])"
   ]
  },
  {
   "cell_type": "code",
   "execution_count": null,
   "metadata": {},
   "outputs": [],
   "source": [
    "species_response"
   ]
  },
  {
   "cell_type": "code",
   "execution_count": null,
   "metadata": {
    "scrolled": true
   },
   "outputs": [],
   "source": [
    "data = species_response.json()\n",
    "data"
   ]
  },
  {
   "cell_type": "markdown",
   "metadata": {},
   "source": [
    "## 7) Print out the URL of every droid\n",
    "\n",
    "* *Tip: life will be easier if you don't say `for droid in...` or `for person in` because you aren't looping through droids or people. What are you looping through?*"
   ]
  },
  {
   "cell_type": "code",
   "execution_count": null,
   "metadata": {},
   "outputs": [],
   "source": [
    "for driod_url in data['people']:\n",
    "    print(driod_url)\n",
    "\n",
    "#but confused why these are false:\n",
    "#response = requests.get('https://swapi.co/api/species/?=2')\n",
    "#droids_data= response.json()\n",
    "#type(droids_data)\n",
    "#droids_list = droids_data['results']\n",
    "#for droid_list in droids_list:\n",
    "    #print(droid_list['url']) or should be ['people']?\n",
    "#the result is a url list of species"
   ]
  },
  {
   "cell_type": "markdown",
   "metadata": {},
   "source": [
    "## 8) Print out the name of every droid\n",
    "\n",
    "* *Tip: You should start from the last answer, but add more stuff in!*\n",
    "* *Tip: You'll need to make a request every time you're in the loop*\n",
    "* *Tip: Be careful - f you re-use the variable name `data` you'll erase your old `data` variable*"
   ]
  },
  {
   "cell_type": "code",
   "execution_count": null,
   "metadata": {},
   "outputs": [],
   "source": [
    "droids_url = data['people']\n",
    "droid_peoples = []\n",
    "for droid_url in droids_url:\n",
    "    response = requests.get(droid_url)\n",
    "    droid_peoples.append(response.json())\n",
    "\n",
    "for droid_people in droid_peoples:\n",
    "    print(droid_people['name'])\n",
    "\n"
   ]
  },
  {
   "cell_type": "markdown",
   "metadata": {},
   "source": [
    "## 9) Print out more about the droid\n",
    "\n",
    "Count the number of films for each droid, printing `\"___ was in ___ films\"` for each of them\n",
    "\n",
    "* *Tip: You might want to look at a single droid result, or print the data in the for loop, so you know how to get the films. Or read the documentation!*"
   ]
  },
  {
   "cell_type": "code",
   "execution_count": null,
   "metadata": {},
   "outputs": [],
   "source": [
    "for droid_people in droid_peoples:\n",
    "    print(f\"{droid_people['name']}  was in  {len(droid_people['films'])} films.\")\n"
   ]
  },
  {
   "cell_type": "markdown",
   "metadata": {},
   "source": [
    "## 10) Let's be smart and cache the results *[DIFFICULT, maybe!]*\n",
    "\n",
    "So far we've been using a for loop to go through each droid. Every droid, one more request. Every time we want more data, we run the loops again. I don't want that guy to get angry that we're asking for so much data!\n",
    "\n",
    "We want to our list of **droid urls** and turn it into a **list of dictionaries about those droids**. Save it as a variable called `droids`. If you get it correct, the following code should work if you cut and paste it.\n",
    "\n",
    "```python\n",
    "for droid in droids:\n",
    "    print(droid['name'])\n",
    "```\n",
    "\n",
    "* *Tip: Use a list comprehension*\n",
    "* *Tip: So far we've done `response = requests.get..` and `response.json()` on separate lines. You'll need to combine them!*"
   ]
  },
  {
   "cell_type": "code",
   "execution_count": null,
   "metadata": {
    "scrolled": true
   },
   "outputs": [],
   "source": [
    "droids = [requests.get(droid_url).json() for droid_url in droids_url]\n",
    "    \n",
    "for droid in droids:\n",
    "    print(droid['name'])"
   ]
  },
  {
   "cell_type": "markdown",
   "metadata": {},
   "source": [
    "## 11) Get a list of every single planet in the Star Wars universe\n",
    "\n",
    "* *Tip: You'll want to use the API documentation for this, I think*"
   ]
  },
  {
   "cell_type": "code",
   "execution_count": 18,
   "metadata": {},
   "outputs": [
    {
     "name": "stdout",
     "output_type": "stream",
     "text": [
      "dict_keys(['count', 'next', 'previous', 'results'])\n"
     ]
    }
   ],
   "source": [
    "response = requests.get('https://swapi.co/api/planets/')\n",
    "data = response.json()\n",
    "print(data.keys())"
   ]
  },
  {
   "cell_type": "code",
   "execution_count": 19,
   "metadata": {
    "scrolled": false
   },
   "outputs": [
    {
     "name": "stdout",
     "output_type": "stream",
     "text": [
      "https://swapi.co/api/planets/?page=2\n",
      "10\n",
      "20\n",
      "https://swapi.co/api/planets/?page=3\n",
      "10\n",
      "30\n",
      "https://swapi.co/api/planets/?page=4\n",
      "10\n",
      "40\n",
      "https://swapi.co/api/planets/?page=5\n",
      "10\n",
      "50\n",
      "https://swapi.co/api/planets/?page=6\n",
      "10\n",
      "60\n",
      "https://swapi.co/api/planets/?page=7\n",
      "1\n",
      "61\n"
     ]
    }
   ],
   "source": [
    "planets = data['results']\n",
    "\n",
    "while 'next' in data.keys():\n",
    "    url_planets = data['next']\n",
    "    if data['next'] is None:\n",
    "        break\n",
    "    print(data['next'])\n",
    "    response = requests.get(url_planets)\n",
    "    data = response.json()\n",
    "    print(len(data['results']))\n",
    "    planets.extend(data['results'])\n",
    "    print(len(planets))\n",
    "\n",
    "#I guess there should be page=1 but I cannot find it"
   ]
  },
  {
   "cell_type": "code",
   "execution_count": null,
   "metadata": {},
   "outputs": [],
   "source": []
  },
  {
   "cell_type": "markdown",
   "metadata": {},
   "source": [
    "## 12) How many plants are there? Show me two different ways of displaying the answer.\n",
    "\n",
    "* *Tip: They won't match*"
   ]
  },
  {
   "cell_type": "code",
   "execution_count": 20,
   "metadata": {},
   "outputs": [
    {
     "name": "stdout",
     "output_type": "stream",
     "text": [
      "61\n"
     ]
    }
   ],
   "source": [
    "print(data['count'])"
   ]
  },
  {
   "cell_type": "code",
   "execution_count": 21,
   "metadata": {},
   "outputs": [
    {
     "name": "stdout",
     "output_type": "stream",
     "text": [
      "61\n"
     ]
    }
   ],
   "source": [
    "print(len(planets))"
   ]
  },
  {
   "cell_type": "code",
   "execution_count": null,
   "metadata": {},
   "outputs": [],
   "source": []
  },
  {
   "cell_type": "markdown",
   "metadata": {},
   "source": [
    "# These questions are all list comprehension questions, if you'd like\n",
    "\n",
    "## 13) Get the population of each of the planets\n",
    "\n",
    "* *Tip: Only use the 10 results for now*\n",
    "* *Tip: Use a list comprehension*"
   ]
  },
  {
   "cell_type": "code",
   "execution_count": 22,
   "metadata": {},
   "outputs": [],
   "source": [
    "response = requests.get('https://swapi.co/api/planets/')\n",
    "data = response.json()"
   ]
  },
  {
   "cell_type": "code",
   "execution_count": 23,
   "metadata": {},
   "outputs": [
    {
     "data": {
      "text/plain": [
       "dict_keys(['count', 'next', 'previous', 'results'])"
      ]
     },
     "execution_count": 23,
     "metadata": {},
     "output_type": "execute_result"
    }
   ],
   "source": [
    "data.keys()"
   ]
  },
  {
   "cell_type": "code",
   "execution_count": 25,
   "metadata": {},
   "outputs": [],
   "source": [
    "planets_population = [planet['population'] for planet in data['results']] "
   ]
  },
  {
   "cell_type": "code",
   "execution_count": 26,
   "metadata": {},
   "outputs": [
    {
     "name": "stdout",
     "output_type": "stream",
     "text": [
      "['2000000000', '1000', 'unknown', 'unknown', '6000000', '30000000', '4500000000', '1000000000000', '1000000000', '100000000000']\n"
     ]
    }
   ],
   "source": [
    "print(planets_population)"
   ]
  },
  {
   "cell_type": "markdown",
   "metadata": {},
   "source": [
    "## 14) Get the population of each of the planets, EXCEPT the ones that have a population of `'unknown'`\n",
    "\n",
    "* *Tip: Use a list comprehension with a filter (that's the `..if..` part at the end)*"
   ]
  },
  {
   "cell_type": "code",
   "execution_count": 27,
   "metadata": {},
   "outputs": [],
   "source": [
    "planets_population = [planet['population'] for planet in data['results'] if planet['population'] != 'unknown']"
   ]
  },
  {
   "cell_type": "code",
   "execution_count": 34,
   "metadata": {},
   "outputs": [
    {
     "data": {
      "text/plain": [
       "['2000000000',\n",
       " '1000',\n",
       " '6000000',\n",
       " '30000000',\n",
       " '4500000000',\n",
       " '1000000000000',\n",
       " '1000000000',\n",
       " '100000000000']"
      ]
     },
     "execution_count": 34,
     "metadata": {},
     "output_type": "execute_result"
    }
   ],
   "source": [
    "planets_population"
   ]
  },
  {
   "cell_type": "markdown",
   "metadata": {},
   "source": [
    "## 14) Add up the populations\n",
    "\n",
    "* *Tip: They're strings right now, so it isn't going to work unless you change something about them*"
   ]
  },
  {
   "cell_type": "code",
   "execution_count": 39,
   "metadata": {},
   "outputs": [],
   "source": [
    "total_popu = sum(int(planet_population)for planet_population in planets_population)\n",
    "#but when I break this in part and get TYPEERROR 'int' object is not iterable. Not sure why."
   ]
  },
  {
   "cell_type": "code",
   "execution_count": 40,
   "metadata": {},
   "outputs": [
    {
     "data": {
      "text/plain": [
       "1107536001000"
      ]
     },
     "execution_count": 40,
     "metadata": {},
     "output_type": "execute_result"
    }
   ],
   "source": [
    "total_popu"
   ]
  },
  {
   "cell_type": "code",
   "execution_count": null,
   "metadata": {},
   "outputs": [],
   "source": []
  },
  {
   "cell_type": "markdown",
   "metadata": {},
   "source": [
    "## 15) Print what percentage of the total population each planet has\n",
    "\n",
    "I would like the sentences to be `\"The planet ____ has a population of _____, which is ___% of the total population\"`. If we don't know the planet's population, say `\"We don't know the population of _____\"`.\n",
    "\n",
    "* *Tip: This finally uses a for loop, but also the result of the last question*"
   ]
  },
  {
   "cell_type": "code",
   "execution_count": 79,
   "metadata": {},
   "outputs": [
    {
     "data": {
      "text/plain": [
       "[0.0018058103738336176,\n",
       " 9.029051869168089e-10,\n",
       " 5.417431121500853e-06,\n",
       " 2.7087155607504265e-05,\n",
       " 0.00406307334112564,\n",
       " 0.9029051869168089,\n",
       " 0.0009029051869168088,\n",
       " 0.09029051869168088]"
      ]
     },
     "execution_count": 79,
     "metadata": {},
     "output_type": "execute_result"
    }
   ],
   "source": [
    "ratios = [int(planet_population) / total_popu for planet_population in planets_population]\n",
    "ratios"
   ]
  },
  {
   "cell_type": "code",
   "execution_count": 80,
   "metadata": {},
   "outputs": [
    {
     "name": "stdout",
     "output_type": "stream",
     "text": [
      "The planet Alderaan has a population of 2000000000 which is 0.18058103738336176 % of the total population.\n",
      "The planet Alderaan has a population of 2000000000 which is 9.02905186916809e-08 % of the total population.\n",
      "The planet Alderaan has a population of 2000000000 which is 0.0005417431121500852 % of the total population.\n",
      "The planet Alderaan has a population of 2000000000 which is 0.0027087155607504266 % of the total population.\n",
      "The planet Alderaan has a population of 2000000000 which is 0.40630733411256403 % of the total population.\n",
      "The planet Alderaan has a population of 2000000000 which is 90.29051869168089 % of the total population.\n",
      "The planet Alderaan has a population of 2000000000 which is 0.09029051869168088 % of the total population.\n",
      "The planet Alderaan has a population of 2000000000 which is 9.029051869168088 % of the total population.\n",
      "The planet Yavin IV has a population of 2000000000 which is 0.18058103738336176 % of the total population.\n",
      "The planet Yavin IV has a population of 2000000000 which is 9.02905186916809e-08 % of the total population.\n",
      "The planet Yavin IV has a population of 2000000000 which is 0.0005417431121500852 % of the total population.\n",
      "The planet Yavin IV has a population of 2000000000 which is 0.0027087155607504266 % of the total population.\n",
      "The planet Yavin IV has a population of 2000000000 which is 0.40630733411256403 % of the total population.\n",
      "The planet Yavin IV has a population of 2000000000 which is 90.29051869168089 % of the total population.\n",
      "The planet Yavin IV has a population of 2000000000 which is 0.09029051869168088 % of the total population.\n",
      "The planet Yavin IV has a population of 2000000000 which is 9.029051869168088 % of the total population.\n",
      "The planet Hoth has a population of 2000000000 which is 0.18058103738336176 % of the total population.\n",
      "The planet Hoth has a population of 2000000000 which is 9.02905186916809e-08 % of the total population.\n",
      "The planet Hoth has a population of 2000000000 which is 0.0005417431121500852 % of the total population.\n",
      "The planet Hoth has a population of 2000000000 which is 0.0027087155607504266 % of the total population.\n",
      "The planet Hoth has a population of 2000000000 which is 0.40630733411256403 % of the total population.\n",
      "The planet Hoth has a population of 2000000000 which is 90.29051869168089 % of the total population.\n",
      "The planet Hoth has a population of 2000000000 which is 0.09029051869168088 % of the total population.\n",
      "The planet Hoth has a population of 2000000000 which is 9.029051869168088 % of the total population.\n",
      "The planet Dagobah has a population of 2000000000 which is 0.18058103738336176 % of the total population.\n",
      "The planet Dagobah has a population of 2000000000 which is 9.02905186916809e-08 % of the total population.\n",
      "The planet Dagobah has a population of 2000000000 which is 0.0005417431121500852 % of the total population.\n",
      "The planet Dagobah has a population of 2000000000 which is 0.0027087155607504266 % of the total population.\n",
      "The planet Dagobah has a population of 2000000000 which is 0.40630733411256403 % of the total population.\n",
      "The planet Dagobah has a population of 2000000000 which is 90.29051869168089 % of the total population.\n",
      "The planet Dagobah has a population of 2000000000 which is 0.09029051869168088 % of the total population.\n",
      "The planet Dagobah has a population of 2000000000 which is 9.029051869168088 % of the total population.\n",
      "The planet Bespin has a population of 2000000000 which is 0.18058103738336176 % of the total population.\n",
      "The planet Bespin has a population of 2000000000 which is 9.02905186916809e-08 % of the total population.\n",
      "The planet Bespin has a population of 2000000000 which is 0.0005417431121500852 % of the total population.\n",
      "The planet Bespin has a population of 2000000000 which is 0.0027087155607504266 % of the total population.\n",
      "The planet Bespin has a population of 2000000000 which is 0.40630733411256403 % of the total population.\n",
      "The planet Bespin has a population of 2000000000 which is 90.29051869168089 % of the total population.\n",
      "The planet Bespin has a population of 2000000000 which is 0.09029051869168088 % of the total population.\n",
      "The planet Bespin has a population of 2000000000 which is 9.029051869168088 % of the total population.\n",
      "The planet Endor has a population of 2000000000 which is 0.18058103738336176 % of the total population.\n",
      "The planet Endor has a population of 2000000000 which is 9.02905186916809e-08 % of the total population.\n",
      "The planet Endor has a population of 2000000000 which is 0.0005417431121500852 % of the total population.\n",
      "The planet Endor has a population of 2000000000 which is 0.0027087155607504266 % of the total population.\n",
      "The planet Endor has a population of 2000000000 which is 0.40630733411256403 % of the total population.\n",
      "The planet Endor has a population of 2000000000 which is 90.29051869168089 % of the total population.\n",
      "The planet Endor has a population of 2000000000 which is 0.09029051869168088 % of the total population.\n",
      "The planet Endor has a population of 2000000000 which is 9.029051869168088 % of the total population.\n",
      "The planet Naboo has a population of 2000000000 which is 0.18058103738336176 % of the total population.\n",
      "The planet Naboo has a population of 2000000000 which is 9.02905186916809e-08 % of the total population.\n",
      "The planet Naboo has a population of 2000000000 which is 0.0005417431121500852 % of the total population.\n",
      "The planet Naboo has a population of 2000000000 which is 0.0027087155607504266 % of the total population.\n",
      "The planet Naboo has a population of 2000000000 which is 0.40630733411256403 % of the total population.\n",
      "The planet Naboo has a population of 2000000000 which is 90.29051869168089 % of the total population.\n",
      "The planet Naboo has a population of 2000000000 which is 0.09029051869168088 % of the total population.\n",
      "The planet Naboo has a population of 2000000000 which is 9.029051869168088 % of the total population.\n",
      "The planet Coruscant has a population of 2000000000 which is 0.18058103738336176 % of the total population.\n",
      "The planet Coruscant has a population of 2000000000 which is 9.02905186916809e-08 % of the total population.\n",
      "The planet Coruscant has a population of 2000000000 which is 0.0005417431121500852 % of the total population.\n",
      "The planet Coruscant has a population of 2000000000 which is 0.0027087155607504266 % of the total population.\n",
      "The planet Coruscant has a population of 2000000000 which is 0.40630733411256403 % of the total population.\n",
      "The planet Coruscant has a population of 2000000000 which is 90.29051869168089 % of the total population.\n",
      "The planet Coruscant has a population of 2000000000 which is 0.09029051869168088 % of the total population.\n",
      "The planet Coruscant has a population of 2000000000 which is 9.029051869168088 % of the total population.\n",
      "The planet Kamino has a population of 2000000000 which is 0.18058103738336176 % of the total population.\n",
      "The planet Kamino has a population of 2000000000 which is 9.02905186916809e-08 % of the total population.\n",
      "The planet Kamino has a population of 2000000000 which is 0.0005417431121500852 % of the total population.\n",
      "The planet Kamino has a population of 2000000000 which is 0.0027087155607504266 % of the total population.\n",
      "The planet Kamino has a population of 2000000000 which is 0.40630733411256403 % of the total population.\n",
      "The planet Kamino has a population of 2000000000 which is 90.29051869168089 % of the total population.\n",
      "The planet Kamino has a population of 2000000000 which is 0.09029051869168088 % of the total population.\n",
      "The planet Kamino has a population of 2000000000 which is 9.029051869168088 % of the total population.\n",
      "The planet Geonosis has a population of 2000000000 which is 0.18058103738336176 % of the total population.\n",
      "The planet Geonosis has a population of 2000000000 which is 9.02905186916809e-08 % of the total population.\n",
      "The planet Geonosis has a population of 2000000000 which is 0.0005417431121500852 % of the total population.\n",
      "The planet Geonosis has a population of 2000000000 which is 0.0027087155607504266 % of the total population.\n",
      "The planet Geonosis has a population of 2000000000 which is 0.40630733411256403 % of the total population.\n",
      "The planet Geonosis has a population of 2000000000 which is 90.29051869168089 % of the total population.\n",
      "The planet Geonosis has a population of 2000000000 which is 0.09029051869168088 % of the total population.\n",
      "The planet Geonosis has a population of 2000000000 which is 9.029051869168088 % of the total population.\n"
     ]
    }
   ],
   "source": [
    "for planet in data['results']:\n",
    "    if planet['population'] != 'unkonwn': \n",
    "        for ratio in ratios:\n",
    "            print(\"The planet\", planet['name'], \"has a population of\", planet_population, \"which is\", ratio * 100, \"% of the total population.\" )\n",
    "    else:\n",
    "        print(\"We don't know the population of\", planet['name'])"
   ]
  }
 ],
 "metadata": {
  "kernelspec": {
   "display_name": "Python 3",
   "language": "python",
   "name": "python3"
  },
  "language_info": {
   "codemirror_mode": {
    "name": "ipython",
    "version": 3
   },
   "file_extension": ".py",
   "mimetype": "text/x-python",
   "name": "python",
   "nbconvert_exporter": "python",
   "pygments_lexer": "ipython3",
   "version": "3.7.0"
  }
 },
 "nbformat": 4,
 "nbformat_minor": 2
}
